{
 "cells": [
  {
   "cell_type": "code",
   "execution_count": null,
   "id": "cb567bb8-d357-493d-833d-423e644ac01d",
   "metadata": {},
   "outputs": [],
   "source": [
    "# !pip install pandas\n",
    "# !pip install matplotlib\n",
    "# !pip install seaborn"
   ]
  },
  {
   "cell_type": "code",
   "execution_count": 1,
   "id": "206b7b00-baf5-4f7f-bead-9987fc7f8d1e",
   "metadata": {},
   "outputs": [],
   "source": [
    "import pandas as pd\n",
    "import numpy as np\n",
    "import matplotlib.pyplot as plt\n",
    "import seaborn as sns\n",
    "import sklearn"
   ]
  },
  {
   "cell_type": "code",
   "execution_count": 2,
   "id": "abcd9b4e-2cf1-46e7-bc10-f79f4f56a925",
   "metadata": {},
   "outputs": [],
   "source": [
    "# https://www.kaggle.com/datasets/aryarishabh/of-genomes-and-genetics-hackerearth-ml-challenge?select=train.csv\n",
    "raw = pd.read_csv(\"genomes_genetics.csv\")"
   ]
  },
  {
   "cell_type": "markdown",
   "id": "da44225f-106c-4f81-b67d-dac93f8f09fc",
   "metadata": {},
   "source": [
    "## Task\n",
    "Given medical information about children who have genetic disorders predict genetic disorder subclass (genetic disorder can be defined by given subclass)."
   ]
  },
  {
   "cell_type": "markdown",
   "id": "e4840177-7df2-4ebb-8560-613038c75cee",
   "metadata": {},
   "source": [
    "## Data overview"
   ]
  },
  {
   "cell_type": "code",
   "execution_count": 3,
   "id": "711db152-9a31-4cc3-9e68-343f05b5b0c1",
   "metadata": {},
   "outputs": [
    {
     "data": {
      "text/html": [
       "<div>\n",
       "<style scoped>\n",
       "    .dataframe tbody tr th:only-of-type {\n",
       "        vertical-align: middle;\n",
       "    }\n",
       "\n",
       "    .dataframe tbody tr th {\n",
       "        vertical-align: top;\n",
       "    }\n",
       "\n",
       "    .dataframe thead th {\n",
       "        text-align: right;\n",
       "    }\n",
       "</style>\n",
       "<table border=\"1\" class=\"dataframe\">\n",
       "  <thead>\n",
       "    <tr style=\"text-align: right;\">\n",
       "      <th></th>\n",
       "      <th>Patient Id</th>\n",
       "      <th>Patient Age</th>\n",
       "      <th>Genes in mother's side</th>\n",
       "      <th>Inherited from father</th>\n",
       "      <th>Maternal gene</th>\n",
       "      <th>Paternal gene</th>\n",
       "      <th>Blood cell count (mcL)</th>\n",
       "      <th>Patient First Name</th>\n",
       "      <th>Family Name</th>\n",
       "      <th>Father's name</th>\n",
       "      <th>...</th>\n",
       "      <th>Birth defects</th>\n",
       "      <th>White Blood cell count (thousand per microliter)</th>\n",
       "      <th>Blood test result</th>\n",
       "      <th>Symptom 1</th>\n",
       "      <th>Symptom 2</th>\n",
       "      <th>Symptom 3</th>\n",
       "      <th>Symptom 4</th>\n",
       "      <th>Symptom 5</th>\n",
       "      <th>Genetic Disorder</th>\n",
       "      <th>Disorder Subclass</th>\n",
       "    </tr>\n",
       "  </thead>\n",
       "  <tbody>\n",
       "    <tr>\n",
       "      <th>0</th>\n",
       "      <td>PID0x6418</td>\n",
       "      <td>2.0</td>\n",
       "      <td>Yes</td>\n",
       "      <td>No</td>\n",
       "      <td>Yes</td>\n",
       "      <td>No</td>\n",
       "      <td>4.760603</td>\n",
       "      <td>Richard</td>\n",
       "      <td>NaN</td>\n",
       "      <td>Larre</td>\n",
       "      <td>...</td>\n",
       "      <td>NaN</td>\n",
       "      <td>9.857562</td>\n",
       "      <td>NaN</td>\n",
       "      <td>1.0</td>\n",
       "      <td>1.0</td>\n",
       "      <td>1.0</td>\n",
       "      <td>1.0</td>\n",
       "      <td>1.0</td>\n",
       "      <td>Mitochondrial genetic inheritance disorders</td>\n",
       "      <td>Leber's hereditary optic neuropathy</td>\n",
       "    </tr>\n",
       "    <tr>\n",
       "      <th>1</th>\n",
       "      <td>PID0x25d5</td>\n",
       "      <td>4.0</td>\n",
       "      <td>Yes</td>\n",
       "      <td>Yes</td>\n",
       "      <td>No</td>\n",
       "      <td>No</td>\n",
       "      <td>4.910669</td>\n",
       "      <td>Mike</td>\n",
       "      <td>NaN</td>\n",
       "      <td>Brycen</td>\n",
       "      <td>...</td>\n",
       "      <td>Multiple</td>\n",
       "      <td>5.522560</td>\n",
       "      <td>normal</td>\n",
       "      <td>1.0</td>\n",
       "      <td>NaN</td>\n",
       "      <td>1.0</td>\n",
       "      <td>1.0</td>\n",
       "      <td>0.0</td>\n",
       "      <td>NaN</td>\n",
       "      <td>Cystic fibrosis</td>\n",
       "    </tr>\n",
       "    <tr>\n",
       "      <th>2</th>\n",
       "      <td>PID0x4a82</td>\n",
       "      <td>6.0</td>\n",
       "      <td>Yes</td>\n",
       "      <td>No</td>\n",
       "      <td>No</td>\n",
       "      <td>No</td>\n",
       "      <td>4.893297</td>\n",
       "      <td>Kimberly</td>\n",
       "      <td>NaN</td>\n",
       "      <td>Nashon</td>\n",
       "      <td>...</td>\n",
       "      <td>Singular</td>\n",
       "      <td>NaN</td>\n",
       "      <td>normal</td>\n",
       "      <td>0.0</td>\n",
       "      <td>1.0</td>\n",
       "      <td>1.0</td>\n",
       "      <td>1.0</td>\n",
       "      <td>1.0</td>\n",
       "      <td>Multifactorial genetic inheritance disorders</td>\n",
       "      <td>Diabetes</td>\n",
       "    </tr>\n",
       "    <tr>\n",
       "      <th>3</th>\n",
       "      <td>PID0x4ac8</td>\n",
       "      <td>12.0</td>\n",
       "      <td>Yes</td>\n",
       "      <td>No</td>\n",
       "      <td>Yes</td>\n",
       "      <td>No</td>\n",
       "      <td>4.705280</td>\n",
       "      <td>Jeffery</td>\n",
       "      <td>Hoelscher</td>\n",
       "      <td>Aayaan</td>\n",
       "      <td>...</td>\n",
       "      <td>Singular</td>\n",
       "      <td>7.919321</td>\n",
       "      <td>inconclusive</td>\n",
       "      <td>0.0</td>\n",
       "      <td>0.0</td>\n",
       "      <td>1.0</td>\n",
       "      <td>0.0</td>\n",
       "      <td>0.0</td>\n",
       "      <td>Mitochondrial genetic inheritance disorders</td>\n",
       "      <td>Leigh syndrome</td>\n",
       "    </tr>\n",
       "    <tr>\n",
       "      <th>4</th>\n",
       "      <td>PID0x1bf7</td>\n",
       "      <td>11.0</td>\n",
       "      <td>Yes</td>\n",
       "      <td>No</td>\n",
       "      <td>NaN</td>\n",
       "      <td>Yes</td>\n",
       "      <td>4.720703</td>\n",
       "      <td>Johanna</td>\n",
       "      <td>Stutzman</td>\n",
       "      <td>Suave</td>\n",
       "      <td>...</td>\n",
       "      <td>Multiple</td>\n",
       "      <td>4.098210</td>\n",
       "      <td>NaN</td>\n",
       "      <td>0.0</td>\n",
       "      <td>0.0</td>\n",
       "      <td>0.0</td>\n",
       "      <td>0.0</td>\n",
       "      <td>NaN</td>\n",
       "      <td>Multifactorial genetic inheritance disorders</td>\n",
       "      <td>Cancer</td>\n",
       "    </tr>\n",
       "  </tbody>\n",
       "</table>\n",
       "<p>5 rows × 45 columns</p>\n",
       "</div>"
      ],
      "text/plain": [
       "  Patient Id  Patient Age Genes in mother's side Inherited from father  \\\n",
       "0  PID0x6418          2.0                    Yes                    No   \n",
       "1  PID0x25d5          4.0                    Yes                   Yes   \n",
       "2  PID0x4a82          6.0                    Yes                    No   \n",
       "3  PID0x4ac8         12.0                    Yes                    No   \n",
       "4  PID0x1bf7         11.0                    Yes                    No   \n",
       "\n",
       "  Maternal gene Paternal gene  Blood cell count (mcL) Patient First Name  \\\n",
       "0           Yes            No                4.760603            Richard   \n",
       "1            No            No                4.910669               Mike   \n",
       "2            No            No                4.893297           Kimberly   \n",
       "3           Yes            No                4.705280            Jeffery   \n",
       "4           NaN           Yes                4.720703            Johanna   \n",
       "\n",
       "  Family Name Father's name  ...  Birth defects  \\\n",
       "0         NaN         Larre  ...            NaN   \n",
       "1         NaN        Brycen  ...       Multiple   \n",
       "2         NaN        Nashon  ...       Singular   \n",
       "3   Hoelscher        Aayaan  ...       Singular   \n",
       "4    Stutzman         Suave  ...       Multiple   \n",
       "\n",
       "   White Blood cell count (thousand per microliter) Blood test result  \\\n",
       "0                                          9.857562               NaN   \n",
       "1                                          5.522560            normal   \n",
       "2                                               NaN            normal   \n",
       "3                                          7.919321      inconclusive   \n",
       "4                                          4.098210               NaN   \n",
       "\n",
       "  Symptom 1 Symptom 2 Symptom 3 Symptom 4  Symptom 5  \\\n",
       "0       1.0       1.0       1.0       1.0        1.0   \n",
       "1       1.0       NaN       1.0       1.0        0.0   \n",
       "2       0.0       1.0       1.0       1.0        1.0   \n",
       "3       0.0       0.0       1.0       0.0        0.0   \n",
       "4       0.0       0.0       0.0       0.0        NaN   \n",
       "\n",
       "                               Genetic Disorder  \\\n",
       "0   Mitochondrial genetic inheritance disorders   \n",
       "1                                           NaN   \n",
       "2  Multifactorial genetic inheritance disorders   \n",
       "3   Mitochondrial genetic inheritance disorders   \n",
       "4  Multifactorial genetic inheritance disorders   \n",
       "\n",
       "                     Disorder Subclass  \n",
       "0  Leber's hereditary optic neuropathy  \n",
       "1                      Cystic fibrosis  \n",
       "2                             Diabetes  \n",
       "3                       Leigh syndrome  \n",
       "4                               Cancer  \n",
       "\n",
       "[5 rows x 45 columns]"
      ]
     },
     "execution_count": 3,
     "metadata": {},
     "output_type": "execute_result"
    }
   ],
   "source": [
    "raw.head()"
   ]
  },
  {
   "cell_type": "code",
   "execution_count": 4,
   "id": "d1ff6665-a146-4bee-afad-7054a9197563",
   "metadata": {},
   "outputs": [
    {
     "name": "stdout",
     "output_type": "stream",
     "text": [
      "<class 'pandas.core.frame.DataFrame'>\n",
      "RangeIndex: 22083 entries, 0 to 22082\n",
      "Data columns (total 45 columns):\n",
      " #   Column                                            Non-Null Count  Dtype  \n",
      "---  ------                                            --------------  -----  \n",
      " 0   Patient Id                                        22083 non-null  object \n",
      " 1   Patient Age                                       20656 non-null  float64\n",
      " 2   Genes in mother's side                            22083 non-null  object \n",
      " 3   Inherited from father                             21777 non-null  object \n",
      " 4   Maternal gene                                     19273 non-null  object \n",
      " 5   Paternal gene                                     22083 non-null  object \n",
      " 6   Blood cell count (mcL)                            22083 non-null  float64\n",
      " 7   Patient First Name                                22083 non-null  object \n",
      " 8   Family Name                                       12392 non-null  object \n",
      " 9   Father's name                                     22083 non-null  object \n",
      " 10  Mother's age                                      16047 non-null  float64\n",
      " 11  Father's age                                      16097 non-null  float64\n",
      " 12  Institute Name                                    16977 non-null  object \n",
      " 13  Location of Institute                             22083 non-null  object \n",
      " 14  Status                                            22083 non-null  object \n",
      " 15  Respiratory Rate (breaths/min)                    19934 non-null  object \n",
      " 16  Heart Rate (rates/min                             19970 non-null  object \n",
      " 17  Test 1                                            19956 non-null  float64\n",
      " 18  Test 2                                            19931 non-null  float64\n",
      " 19  Test 3                                            19936 non-null  float64\n",
      " 20  Test 4                                            19943 non-null  float64\n",
      " 21  Test 5                                            19913 non-null  float64\n",
      " 22  Parental consent                                  19958 non-null  object \n",
      " 23  Follow-up                                         19917 non-null  object \n",
      " 24  Gender                                            19910 non-null  object \n",
      " 25  Birth asphyxia                                    19944 non-null  object \n",
      " 26  Autopsy shows birth defect (if applicable)        17691 non-null  object \n",
      " 27  Place of birth                                    19959 non-null  object \n",
      " 28  Folic acid details (peri-conceptional)            19966 non-null  object \n",
      " 29  H/O serious maternal illness                      19931 non-null  object \n",
      " 30  H/O radiation exposure (x-ray)                    19930 non-null  object \n",
      " 31  H/O substance abuse                               19888 non-null  object \n",
      " 32  Assisted conception IVF/ART                       19961 non-null  object \n",
      " 33  History of anomalies in previous pregnancies      19911 non-null  object \n",
      " 34  No. of previous abortion                          19921 non-null  float64\n",
      " 35  Birth defects                                     19929 non-null  object \n",
      " 36  White Blood cell count (thousand per microliter)  19935 non-null  float64\n",
      " 37  Blood test result                                 19938 non-null  object \n",
      " 38  Symptom 1                                         19928 non-null  float64\n",
      " 39  Symptom 2                                         19861 non-null  float64\n",
      " 40  Symptom 3                                         19982 non-null  float64\n",
      " 41  Symptom 4                                         19970 non-null  float64\n",
      " 42  Symptom 5                                         19930 non-null  float64\n",
      " 43  Genetic Disorder                                  19937 non-null  object \n",
      " 44  Disorder Subclass                                 19915 non-null  object \n",
      "dtypes: float64(16), object(29)\n",
      "memory usage: 7.6+ MB\n"
     ]
    }
   ],
   "source": [
    "raw.info()"
   ]
  },
  {
   "cell_type": "markdown",
   "id": "f7cd5368-01db-4af8-af52-6a50e0f47c16",
   "metadata": {},
   "source": [
    "### Data selection"
   ]
  },
  {
   "cell_type": "code",
   "execution_count": 5,
   "id": "6fb22a54-ea44-4d7e-b07c-7132c3c139e7",
   "metadata": {
    "scrolled": true
   },
   "outputs": [],
   "source": [
    "raw.drop([\"Patient Id\", \n",
    "          \"Patient First Name\",\n",
    "          \"Family Name\",\n",
    "          \"Father's name\",\n",
    "          \"Institute Name\",\n",
    "          \"Location of Institute\",\n",
    "          \"Test 1\",\n",
    "          \"Test 2\",\n",
    "          \"Test 3\",\n",
    "          \"Test 4\",\n",
    "          \"Test 5\",\n",
    "          \"Symptom 1\",\n",
    "          \"Symptom 2\",\n",
    "          \"Symptom 3\",\n",
    "          \"Symptom 4\",\n",
    "          \"Symptom 5\",\n",
    "          \"Parental consent\",\n",
    "        ], axis=1, inplace=True)"
   ]
  },
  {
   "cell_type": "code",
   "execution_count": 6,
   "id": "e7a628a3-393a-4988-8295-765a4a4ff430",
   "metadata": {},
   "outputs": [
    {
     "name": "stdout",
     "output_type": "stream",
     "text": [
      "<class 'pandas.core.frame.DataFrame'>\n",
      "RangeIndex: 22083 entries, 0 to 22082\n",
      "Data columns (total 28 columns):\n",
      " #   Column                                            Non-Null Count  Dtype  \n",
      "---  ------                                            --------------  -----  \n",
      " 0   Patient Age                                       20656 non-null  float64\n",
      " 1   Genes in mother's side                            22083 non-null  object \n",
      " 2   Inherited from father                             21777 non-null  object \n",
      " 3   Maternal gene                                     19273 non-null  object \n",
      " 4   Paternal gene                                     22083 non-null  object \n",
      " 5   Blood cell count (mcL)                            22083 non-null  float64\n",
      " 6   Mother's age                                      16047 non-null  float64\n",
      " 7   Father's age                                      16097 non-null  float64\n",
      " 8   Status                                            22083 non-null  object \n",
      " 9   Respiratory Rate (breaths/min)                    19934 non-null  object \n",
      " 10  Heart Rate (rates/min                             19970 non-null  object \n",
      " 11  Follow-up                                         19917 non-null  object \n",
      " 12  Gender                                            19910 non-null  object \n",
      " 13  Birth asphyxia                                    19944 non-null  object \n",
      " 14  Autopsy shows birth defect (if applicable)        17691 non-null  object \n",
      " 15  Place of birth                                    19959 non-null  object \n",
      " 16  Folic acid details (peri-conceptional)            19966 non-null  object \n",
      " 17  H/O serious maternal illness                      19931 non-null  object \n",
      " 18  H/O radiation exposure (x-ray)                    19930 non-null  object \n",
      " 19  H/O substance abuse                               19888 non-null  object \n",
      " 20  Assisted conception IVF/ART                       19961 non-null  object \n",
      " 21  History of anomalies in previous pregnancies      19911 non-null  object \n",
      " 22  No. of previous abortion                          19921 non-null  float64\n",
      " 23  Birth defects                                     19929 non-null  object \n",
      " 24  White Blood cell count (thousand per microliter)  19935 non-null  float64\n",
      " 25  Blood test result                                 19938 non-null  object \n",
      " 26  Genetic Disorder                                  19937 non-null  object \n",
      " 27  Disorder Subclass                                 19915 non-null  object \n",
      "dtypes: float64(6), object(22)\n",
      "memory usage: 4.7+ MB\n"
     ]
    }
   ],
   "source": [
    "raw.info()"
   ]
  },
  {
   "cell_type": "code",
   "execution_count": 7,
   "id": "5bac38c4-b460-4046-8da1-247785ccbd9a",
   "metadata": {},
   "outputs": [],
   "source": [
    "raw.rename(columns={\n",
    "                    \"Patient Age\":\"Patient_Age\",\n",
    "                    \"Genes in mother's side\":\"Genes_Mother_Side\",\n",
    "                    \"Inherited from father\":\"Inherited_Father\",\n",
    "                    \"Maternal gene\":\"Maternal_Gene\",\n",
    "                    \"Paternal gene\":\"Paternal_Gene\",\n",
    "                    \"Blood cell count (mcL)\":\"Blood_Cell_mcL\",\n",
    "                    \"Mother's age\":\"Mother_Age\",\n",
    "                    \"Father's age\":\"Father_Age\",\n",
    "                    \"Respiratory Rate (breaths/min)\":\"Respiratory_Rate_Breaths_Min\",\n",
    "                    \"Heart Rate (rates/min\":\"Heart_Rates_Min\",\n",
    "                    \"Follow-up\":\"Follow_Up\",\n",
    "                    \"Birth asphyxia\":\"Birth_Asphyxia\",\n",
    "                    \"Autopsy shows birth defect (if applicable)\":\"Autopsy_Birth_Defect\",\n",
    "                    \"Place of birth\":\"Place_Birth\",\n",
    "                    \"Folic acid details (peri-conceptional)\":\"Folic_Acid\",\n",
    "                    \"H/O serious maternal illness\":\"Maternal_Illness\",\n",
    "                    \"H/O radiation exposure (x-ray)\":\"Radiation_Exposure\",\n",
    "                    \"H/O substance abuse\":\"Substance_Abuse\",\n",
    "                    \"Assisted conception IVF/ART\":\"Assisted_Conception\",\n",
    "                    \"History of anomalies in previous pregnancies\":\"History_Previous_Pregnancies\",\n",
    "                    \"No. of previous abortion\":\"Previous_Abortion\",\n",
    "                    \"Birth defects\":\"Birth_Defects\",\n",
    "                    \"White Blood cell count (thousand per microliter)\":\"White_Blood_Cell\",\n",
    "                    \"Blood test result\":\"Blood_Test_Result\",\n",
    "                    \"Genetic Disorder\":\"Genetic_Disorder\",\n",
    "                    \"Disorder Subclass\":\"Disorder_Subclass\"\n",
    "                    }, inplace=True)"
   ]
  },
  {
   "cell_type": "code",
   "execution_count": 8,
   "id": "ce216d77-3523-4771-9976-919415eaa934",
   "metadata": {},
   "outputs": [
    {
     "data": {
      "text/plain": [
       "Patient_Age                        15\n",
       "Genes_Mother_Side                   2\n",
       "Inherited_Father                    2\n",
       "Maternal_Gene                       2\n",
       "Paternal_Gene                       2\n",
       "Blood_Cell_mcL                  22083\n",
       "Mother_Age                         34\n",
       "Father_Age                         45\n",
       "Status                              2\n",
       "Respiratory_Rate_Breaths_Min        2\n",
       "Heart_Rates_Min                     2\n",
       "Follow_Up                           2\n",
       "Gender                              3\n",
       "Birth_Asphyxia                      4\n",
       "Autopsy_Birth_Defect                3\n",
       "Place_Birth                         2\n",
       "Folic_Acid                          2\n",
       "Maternal_Illness                    2\n",
       "Radiation_Exposure                  4\n",
       "Substance_Abuse                     4\n",
       "Assisted_Conception                 2\n",
       "History_Previous_Pregnancies        2\n",
       "Previous_Abortion                   5\n",
       "Birth_Defects                       2\n",
       "White_Blood_Cell                17277\n",
       "Blood_Test_Result                   4\n",
       "Genetic_Disorder                    3\n",
       "Disorder_Subclass                   9\n",
       "dtype: int64"
      ]
     },
     "execution_count": 8,
     "metadata": {},
     "output_type": "execute_result"
    }
   ],
   "source": [
    "raw.nunique()"
   ]
  },
  {
   "cell_type": "code",
   "execution_count": 9,
   "id": "c4595f64-900d-46a2-9617-e49bb5c8a348",
   "metadata": {},
   "outputs": [
    {
     "name": "stdout",
     "output_type": "stream",
     "text": [
      "Genes_Mother_Side\n",
      "Yes    13143\n",
      "No      8940\n",
      "Name: count, dtype: int64\n",
      "\n",
      "Inherited_Father\n",
      "No     13133\n",
      "Yes     8644\n",
      "Name: count, dtype: int64\n",
      "\n",
      "Maternal_Gene\n",
      "Yes    10647\n",
      "No      8626\n",
      "Name: count, dtype: int64\n",
      "\n",
      "Paternal_Gene\n",
      "No     12508\n",
      "Yes     9575\n",
      "Name: count, dtype: int64\n",
      "\n",
      "Status\n",
      "Alive       11083\n",
      "Deceased    11000\n",
      "Name: count, dtype: int64\n",
      "\n",
      "Respiratory_Rate_Breaths_Min\n",
      "Normal (30-60)    10065\n",
      "Tachypnea          9869\n",
      "Name: count, dtype: int64\n",
      "\n",
      "Heart_Rates_Min\n",
      "Normal         10187\n",
      "Tachycardia     9783\n",
      "Name: count, dtype: int64\n",
      "\n",
      "Follow_Up\n",
      "Low     10040\n",
      "High     9877\n",
      "Name: count, dtype: int64\n",
      "\n",
      "Gender\n",
      "Ambiguous    6695\n",
      "Male         6666\n",
      "Female       6549\n",
      "Name: count, dtype: int64\n",
      "\n",
      "Birth_Asphyxia\n",
      "Yes              5106\n",
      "No record        5008\n",
      "Not available    4986\n",
      "No               4844\n",
      "Name: count, dtype: int64\n",
      "\n",
      "Autopsy_Birth_Defect\n",
      "Not applicable    11083\n",
      "Yes                3383\n",
      "No                 3225\n",
      "Name: count, dtype: int64\n",
      "\n",
      "Place_Birth\n",
      "Institute    10073\n",
      "Home          9886\n",
      "Name: count, dtype: int64\n",
      "\n",
      "Folic_Acid\n",
      "Yes    10087\n",
      "No      9879\n",
      "Name: count, dtype: int64\n",
      "\n",
      "Maternal_Illness\n",
      "No     10012\n",
      "Yes     9919\n",
      "Name: count, dtype: int64\n",
      "\n",
      "Radiation_Exposure\n",
      "Not applicable    5029\n",
      "No                5005\n",
      "Yes               4980\n",
      "-                 4916\n",
      "Name: count, dtype: int64\n",
      "\n",
      "Substance_Abuse\n",
      "-                 5042\n",
      "No                5033\n",
      "Yes               4975\n",
      "Not applicable    4838\n",
      "Name: count, dtype: int64\n",
      "\n",
      "Assisted_Conception\n",
      "Yes    10012\n",
      "No      9949\n",
      "Name: count, dtype: int64\n",
      "\n",
      "History_Previous_Pregnancies\n",
      "Yes    10082\n",
      "No      9829\n",
      "Name: count, dtype: int64\n",
      "\n",
      "Birth_Defects\n",
      "Singular    9977\n",
      "Multiple    9952\n",
      "Name: count, dtype: int64\n",
      "\n",
      "Blood_Test_Result\n",
      "slightly abnormal    5128\n",
      "normal               4954\n",
      "inconclusive         4952\n",
      "abnormal             4904\n",
      "Name: count, dtype: int64\n",
      "\n",
      "Genetic_Disorder\n",
      "Mitochondrial genetic inheritance disorders     10202\n",
      "Single-gene inheritance diseases                 7664\n",
      "Multifactorial genetic inheritance disorders     2071\n",
      "Name: count, dtype: int64\n",
      "\n",
      "Disorder_Subclass\n",
      "Leigh syndrome                         5160\n",
      "Mitochondrial myopathy                 4405\n",
      "Cystic fibrosis                        3448\n",
      "Tay-Sachs                              2833\n",
      "Diabetes                               1817\n",
      "Hemochromatosis                        1355\n",
      "Leber's hereditary optic neuropathy     648\n",
      "Alzheimer's                             152\n",
      "Cancer                                   97\n",
      "Name: count, dtype: int64\n",
      "\n"
     ]
    }
   ],
   "source": [
    "_numerical = list(raw.describe().columns)\n",
    "for c in raw.columns:\n",
    "    if(c not in _numerical):\n",
    "        print(raw[c].value_counts())\n",
    "        print()"
   ]
  },
  {
   "cell_type": "code",
   "execution_count": 10,
   "id": "d8299b59-8b9f-48b9-b27e-eceb91624d62",
   "metadata": {},
   "outputs": [],
   "source": [
    "raw[\"Birth_Asphyxia\"] = raw[\"Birth_Asphyxia\"].replace(\"No record\",np.NaN)\n",
    "raw[\"Birth_Asphyxia\"] = raw[\"Birth_Asphyxia\"].replace(\"Not available\",np.NaN)\n",
    "raw[\"Autopsy_Birth_Defect\"] = raw[\"Autopsy_Birth_Defect\"].replace(\"None\",np.NaN)\n",
    "raw[\"Radiation_Exposure\"] = raw[\"Radiation_Exposure\"].replace(\"Not applicable\",np.NaN)\n",
    "raw[\"Radiation_Exposure\"] = raw[\"Radiation_Exposure\"].replace(\"-\",np.NaN)\n",
    "raw[\"Substance_Abuse\"] = raw[\"Substance_Abuse\"].replace(\"Not applicable\",np.NaN)\n",
    "raw[\"Substance_Abuse\"] = raw[\"Substance_Abuse\"].replace(\"-\",np.NaN)"
   ]
  },
  {
   "cell_type": "markdown",
   "id": "f34f129e-1188-4297-a637-397886fffb81",
   "metadata": {},
   "source": [
    "### Save cleared data"
   ]
  },
  {
   "cell_type": "code",
   "execution_count": 11,
   "id": "de6b522b-9740-45b0-8f23-0d998806fb2a",
   "metadata": {},
   "outputs": [],
   "source": [
    "raw.to_csv('Disorders_dataset_cleared.zip', \n",
    "            compression={'method':'zip', 'archive_name':'Disorders_dataset_cleared.csv'})"
   ]
  },
  {
   "cell_type": "markdown",
   "id": "a03ee446-63a9-458e-8c7b-184597a5f6a8",
   "metadata": {},
   "source": [
    "## Data analysis"
   ]
  },
  {
   "cell_type": "code",
   "execution_count": 12,
   "id": "f4808803-fdae-443f-8814-779dbd2e96da",
   "metadata": {},
   "outputs": [
    {
     "name": "stdout",
     "output_type": "stream",
     "text": [
      "<class 'pandas.core.frame.DataFrame'>\n",
      "RangeIndex: 22083 entries, 0 to 22082\n",
      "Data columns (total 28 columns):\n",
      " #   Column                        Non-Null Count  Dtype  \n",
      "---  ------                        --------------  -----  \n",
      " 0   Patient_Age                   20656 non-null  float64\n",
      " 1   Genes_Mother_Side             22083 non-null  object \n",
      " 2   Inherited_Father              21777 non-null  object \n",
      " 3   Maternal_Gene                 19273 non-null  object \n",
      " 4   Paternal_Gene                 22083 non-null  object \n",
      " 5   Blood_Cell_mcL                22083 non-null  float64\n",
      " 6   Mother_Age                    16047 non-null  float64\n",
      " 7   Father_Age                    16097 non-null  float64\n",
      " 8   Status                        22083 non-null  object \n",
      " 9   Respiratory_Rate_Breaths_Min  19934 non-null  object \n",
      " 10  Heart_Rates_Min               19970 non-null  object \n",
      " 11  Follow_Up                     19917 non-null  object \n",
      " 12  Gender                        19910 non-null  object \n",
      " 13  Birth_Asphyxia                9950 non-null   object \n",
      " 14  Autopsy_Birth_Defect          17691 non-null  object \n",
      " 15  Place_Birth                   19959 non-null  object \n",
      " 16  Folic_Acid                    19966 non-null  object \n",
      " 17  Maternal_Illness              19931 non-null  object \n",
      " 18  Radiation_Exposure            9985 non-null   object \n",
      " 19  Substance_Abuse               10008 non-null  object \n",
      " 20  Assisted_Conception           19961 non-null  object \n",
      " 21  History_Previous_Pregnancies  19911 non-null  object \n",
      " 22  Previous_Abortion             19921 non-null  float64\n",
      " 23  Birth_Defects                 19929 non-null  object \n",
      " 24  White_Blood_Cell              19935 non-null  float64\n",
      " 25  Blood_Test_Result             19938 non-null  object \n",
      " 26  Genetic_Disorder              19937 non-null  object \n",
      " 27  Disorder_Subclass             19915 non-null  object \n",
      "dtypes: float64(6), object(22)\n",
      "memory usage: 4.7+ MB\n"
     ]
    }
   ],
   "source": [
    "data = pd.read_csv(\"Disorders_dataset_cleared.csv\")\n",
    "data.drop(['Unnamed: 0'], axis=1, inplace=True)\n",
    "data.info()"
   ]
  },
  {
   "cell_type": "code",
   "execution_count": 13,
   "id": "019567be-ba71-4737-871a-ba7b78c682c8",
   "metadata": {
    "scrolled": true
   },
   "outputs": [],
   "source": [
    "numerical = list(data.describe().columns)\n",
    "categorical = [c for c in data.columns if c not in numerical]"
   ]
  },
  {
   "cell_type": "code",
   "execution_count": 14,
   "id": "af275fc9-fbc2-4376-9117-2f3c73ae8d55",
   "metadata": {},
   "outputs": [
    {
     "data": {
      "text/plain": [
       "['Patient_Age',\n",
       " 'Blood_Cell_mcL',\n",
       " 'Mother_Age',\n",
       " 'Father_Age',\n",
       " 'Previous_Abortion',\n",
       " 'White_Blood_Cell']"
      ]
     },
     "execution_count": 14,
     "metadata": {},
     "output_type": "execute_result"
    }
   ],
   "source": [
    "numerical"
   ]
  },
  {
   "cell_type": "code",
   "execution_count": 15,
   "id": "5fed4e79-91d3-4b62-94a1-3a1e83a03fb3",
   "metadata": {},
   "outputs": [
    {
     "data": {
      "text/plain": [
       "['Genes_Mother_Side',\n",
       " 'Inherited_Father',\n",
       " 'Maternal_Gene',\n",
       " 'Paternal_Gene',\n",
       " 'Status',\n",
       " 'Respiratory_Rate_Breaths_Min',\n",
       " 'Heart_Rates_Min',\n",
       " 'Follow_Up',\n",
       " 'Gender',\n",
       " 'Birth_Asphyxia',\n",
       " 'Autopsy_Birth_Defect',\n",
       " 'Place_Birth',\n",
       " 'Folic_Acid',\n",
       " 'Maternal_Illness',\n",
       " 'Radiation_Exposure',\n",
       " 'Substance_Abuse',\n",
       " 'Assisted_Conception',\n",
       " 'History_Previous_Pregnancies',\n",
       " 'Birth_Defects',\n",
       " 'Blood_Test_Result',\n",
       " 'Genetic_Disorder',\n",
       " 'Disorder_Subclass']"
      ]
     },
     "execution_count": 15,
     "metadata": {},
     "output_type": "execute_result"
    }
   ],
   "source": [
    "categorical"
   ]
  },
  {
   "cell_type": "markdown",
   "id": "e6a20c7f-fd9a-4c84-b409-1e76707941ee",
   "metadata": {},
   "source": [
    "### Calculate missing values %"
   ]
  },
  {
   "cell_type": "code",
   "execution_count": 16,
   "id": "dbff470f-347d-4d5c-b9aa-e93b5eb65a9d",
   "metadata": {},
   "outputs": [
    {
     "data": {
      "text/plain": [
       "Birth_Asphyxia                  0.549427\n",
       "Radiation_Exposure              0.547842\n",
       "Substance_Abuse                 0.546801\n",
       "Mother_Age                      0.273332\n",
       "Father_Age                      0.271068\n",
       "Autopsy_Birth_Defect            0.198886\n",
       "Maternal_Gene                   0.127247\n",
       "Gender                          0.098401\n",
       "History_Previous_Pregnancies    0.098356\n",
       "Disorder_Subclass               0.098175\n",
       "Follow_Up                       0.098084\n",
       "Previous_Abortion               0.097903\n",
       "Birth_Defects                   0.097541\n",
       "Maternal_Illness                0.097451\n",
       "Respiratory_Rate_Breaths_Min    0.097315\n",
       "White_Blood_Cell                0.097269\n",
       "Genetic_Disorder                0.097179\n",
       "Blood_Test_Result               0.097134\n",
       "Place_Birth                     0.096183\n",
       "Assisted_Conception             0.096092\n",
       "Folic_Acid                      0.095866\n",
       "Heart_Rates_Min                 0.095684\n",
       "Patient_Age                     0.064620\n",
       "Inherited_Father                0.013857\n",
       "Blood_Cell_mcL                  0.000000\n",
       "Genes_Mother_Side               0.000000\n",
       "Status                          0.000000\n",
       "Paternal_Gene                   0.000000\n",
       "dtype: float64"
      ]
     },
     "execution_count": 16,
     "metadata": {},
     "output_type": "execute_result"
    }
   ],
   "source": [
    "data.isna().mean().sort_values(ascending=False)"
   ]
  },
  {
   "cell_type": "code",
   "execution_count": 17,
   "id": "0e032ed9-48c1-4abd-be25-a1ff1ff76e63",
   "metadata": {},
   "outputs": [
    {
     "name": "stdout",
     "output_type": "stream",
     "text": [
      " 14.47% is missing\n"
     ]
    }
   ],
   "source": [
    "print(f'{data.isna().sum().sum() / (data.shape[0] * data.shape[1])*100 : .2f}% is missing')"
   ]
  },
  {
   "cell_type": "code",
   "execution_count": 18,
   "id": "4bc3e21c-5938-4d66-8495-89748fdda5c4",
   "metadata": {},
   "outputs": [
    {
     "name": "stdout",
     "output_type": "stream",
     "text": [
      "N/A  0.09717882534075986\n"
     ]
    },
    {
     "data": {
      "text/plain": [
       "Genetic_Disorder\n",
       "Mitochondrial genetic inheritance disorders     0.461984\n",
       "Single-gene inheritance diseases                0.347054\n",
       "Multifactorial genetic inheritance disorders    0.093783\n",
       "Name: count, dtype: float64"
      ]
     },
     "execution_count": 18,
     "metadata": {},
     "output_type": "execute_result"
    }
   ],
   "source": [
    "print('N/A ', data[\"Genetic_Disorder\"].isna().sum() / data.shape[0])\n",
    "data[\"Genetic_Disorder\"].value_counts() / data.shape[0]"
   ]
  },
  {
   "cell_type": "code",
   "execution_count": 19,
   "id": "adbb056a-fce8-428a-851b-1648c3bd9280",
   "metadata": {},
   "outputs": [
    {
     "name": "stdout",
     "output_type": "stream",
     "text": [
      "N/A  0.09817506679346104\n"
     ]
    },
    {
     "data": {
      "text/plain": [
       "Disorder_Subclass\n",
       "Leigh syndrome                         0.233664\n",
       "Mitochondrial myopathy                 0.199475\n",
       "Cystic fibrosis                        0.156138\n",
       "Tay-Sachs                              0.128289\n",
       "Diabetes                               0.082280\n",
       "Hemochromatosis                        0.061359\n",
       "Leber's hereditary optic neuropathy    0.029344\n",
       "Alzheimer's                            0.006883\n",
       "Cancer                                 0.004393\n",
       "Name: count, dtype: float64"
      ]
     },
     "execution_count": 19,
     "metadata": {},
     "output_type": "execute_result"
    }
   ],
   "source": [
    "print('N/A ', data[\"Disorder_Subclass\"].isna().sum() / data.shape[0])\n",
    "data[\"Disorder_Subclass\"].value_counts() / data.shape[0]"
   ]
  },
  {
   "cell_type": "markdown",
   "id": "50b1dfda-1625-41c9-baa9-0c55c6e374ec",
   "metadata": {},
   "source": [
    "### Numerical data analysis"
   ]
  },
  {
   "cell_type": "code",
   "execution_count": 20,
   "id": "243e16a6-d4cb-4468-874d-9b8ea84d2858",
   "metadata": {},
   "outputs": [
    {
     "data": {
      "text/html": [
       "<div>\n",
       "<style scoped>\n",
       "    .dataframe tbody tr th:only-of-type {\n",
       "        vertical-align: middle;\n",
       "    }\n",
       "\n",
       "    .dataframe tbody tr th {\n",
       "        vertical-align: top;\n",
       "    }\n",
       "\n",
       "    .dataframe thead th {\n",
       "        text-align: right;\n",
       "    }\n",
       "</style>\n",
       "<table border=\"1\" class=\"dataframe\">\n",
       "  <thead>\n",
       "    <tr style=\"text-align: right;\">\n",
       "      <th></th>\n",
       "      <th>Patient_Age</th>\n",
       "      <th>Blood_Cell_mcL</th>\n",
       "      <th>Mother_Age</th>\n",
       "      <th>Father_Age</th>\n",
       "      <th>Previous_Abortion</th>\n",
       "      <th>White_Blood_Cell</th>\n",
       "    </tr>\n",
       "  </thead>\n",
       "  <tbody>\n",
       "    <tr>\n",
       "      <th>count</th>\n",
       "      <td>20656.000000</td>\n",
       "      <td>22083.000000</td>\n",
       "      <td>16047.000000</td>\n",
       "      <td>16097.000000</td>\n",
       "      <td>19921.000000</td>\n",
       "      <td>19935.000000</td>\n",
       "    </tr>\n",
       "    <tr>\n",
       "      <th>mean</th>\n",
       "      <td>6.974148</td>\n",
       "      <td>4.898871</td>\n",
       "      <td>34.526454</td>\n",
       "      <td>41.972852</td>\n",
       "      <td>2.003062</td>\n",
       "      <td>7.486224</td>\n",
       "    </tr>\n",
       "    <tr>\n",
       "      <th>std</th>\n",
       "      <td>4.319475</td>\n",
       "      <td>0.199663</td>\n",
       "      <td>9.852598</td>\n",
       "      <td>13.035501</td>\n",
       "      <td>1.411919</td>\n",
       "      <td>2.653393</td>\n",
       "    </tr>\n",
       "    <tr>\n",
       "      <th>min</th>\n",
       "      <td>0.000000</td>\n",
       "      <td>4.092727</td>\n",
       "      <td>18.000000</td>\n",
       "      <td>20.000000</td>\n",
       "      <td>0.000000</td>\n",
       "      <td>3.000000</td>\n",
       "    </tr>\n",
       "    <tr>\n",
       "      <th>25%</th>\n",
       "      <td>3.000000</td>\n",
       "      <td>4.763109</td>\n",
       "      <td>26.000000</td>\n",
       "      <td>31.000000</td>\n",
       "      <td>1.000000</td>\n",
       "      <td>5.424703</td>\n",
       "    </tr>\n",
       "    <tr>\n",
       "      <th>50%</th>\n",
       "      <td>7.000000</td>\n",
       "      <td>4.899399</td>\n",
       "      <td>35.000000</td>\n",
       "      <td>42.000000</td>\n",
       "      <td>2.000000</td>\n",
       "      <td>7.477132</td>\n",
       "    </tr>\n",
       "    <tr>\n",
       "      <th>75%</th>\n",
       "      <td>11.000000</td>\n",
       "      <td>5.033830</td>\n",
       "      <td>43.000000</td>\n",
       "      <td>53.000000</td>\n",
       "      <td>3.000000</td>\n",
       "      <td>9.526152</td>\n",
       "    </tr>\n",
       "    <tr>\n",
       "      <th>max</th>\n",
       "      <td>14.000000</td>\n",
       "      <td>5.609829</td>\n",
       "      <td>51.000000</td>\n",
       "      <td>64.000000</td>\n",
       "      <td>4.000000</td>\n",
       "      <td>12.000000</td>\n",
       "    </tr>\n",
       "  </tbody>\n",
       "</table>\n",
       "</div>"
      ],
      "text/plain": [
       "        Patient_Age  Blood_Cell_mcL    Mother_Age    Father_Age  \\\n",
       "count  20656.000000    22083.000000  16047.000000  16097.000000   \n",
       "mean       6.974148        4.898871     34.526454     41.972852   \n",
       "std        4.319475        0.199663      9.852598     13.035501   \n",
       "min        0.000000        4.092727     18.000000     20.000000   \n",
       "25%        3.000000        4.763109     26.000000     31.000000   \n",
       "50%        7.000000        4.899399     35.000000     42.000000   \n",
       "75%       11.000000        5.033830     43.000000     53.000000   \n",
       "max       14.000000        5.609829     51.000000     64.000000   \n",
       "\n",
       "       Previous_Abortion  White_Blood_Cell  \n",
       "count       19921.000000      19935.000000  \n",
       "mean            2.003062          7.486224  \n",
       "std             1.411919          2.653393  \n",
       "min             0.000000          3.000000  \n",
       "25%             1.000000          5.424703  \n",
       "50%             2.000000          7.477132  \n",
       "75%             3.000000          9.526152  \n",
       "max             4.000000         12.000000  "
      ]
     },
     "execution_count": 20,
     "metadata": {},
     "output_type": "execute_result"
    }
   ],
   "source": [
    "data.describe()"
   ]
  },
  {
   "cell_type": "code",
   "execution_count": 21,
   "id": "fbba0cef-d87d-4338-bd7d-a62446fd127e",
   "metadata": {},
   "outputs": [
    {
     "data": {
      "text/plain": [
       "<Axes: >"
      ]
     },
     "execution_count": 21,
     "metadata": {},
     "output_type": "execute_result"
    },
    {
     "data": {
      "image/png": "[encoded data removed]",
      "text/plain": [
       "<Figure size 640x480 with 2 Axes>"
      ]
     },
     "metadata": {},
     "output_type": "display_data"
    }
   ],
   "source": [
    "corr_mat = data.corr(numeric_only=True)\n",
    "sns.heatmap(corr_mat, square=True, vmin=-1, vmax=1, cmap='coolwarm')"
   ]
  },
  {
   "cell_type": "markdown",
   "id": "21fd68ee-b1fe-4239-b869-656d444a8ee5",
   "metadata": {},
   "source": [
    "- As we can see there is no correlation between numerical data."
   ]
  },
  {
   "cell_type": "markdown",
   "id": "ac37638a-25db-4682-a963-0d2566316c3c",
   "metadata": {},
   "source": [
    "### Check and remove outliers"
   ]
  },
  {
   "cell_type": "code",
   "execution_count": 22,
   "id": "9fba65f0-822c-4cba-b8a7-c26715b74a82",
   "metadata": {},
   "outputs": [
    {
     "name": "stdout",
     "output_type": "stream",
     "text": [
      "Patient_Age          0\n",
      "Blood_Cell_mcL       143\n",
      "Mother_Age           0\n",
      "Father_Age           0\n",
      "Previous_Abortion    0\n",
      "White_Blood_Cell     0\n"
     ]
    }
   ],
   "source": [
    "for c in numerical:\n",
    "    num = data[c]\n",
    "    Q1 = num.quantile(0.25)\n",
    "    Q3 = num.quantile(0.75)\n",
    "    IQR = Q3 - Q1\n",
    "    out = num[((num < (Q1 - 1.5 * IQR)) | (num > (Q3 + 1.5 * IQR)))]\n",
    "    print(f'{c : <20}', len(out))"
   ]
  },
  {
   "cell_type": "code",
   "execution_count": 23,
   "id": "679cf031-e10c-4930-b40f-fd02906bc2e8",
   "metadata": {},
   "outputs": [],
   "source": [
    "col = data[\"Blood_Cell_mcL\"]\n",
    "Q1 = col.quantile(0.25)\n",
    "Q3 = col.quantile(0.75)\n",
    "IQR = Q3 - Q1\n",
    "rows_to_drop = col[((col < (Q1 - 1.5 * IQR)) | (col > (Q3 + 1.5 * IQR)))].index\n",
    "data.drop(rows_to_drop, inplace=True)"
   ]
  },
  {
   "cell_type": "code",
   "execution_count": 24,
   "id": "6a5edba4-9867-48e0-9879-5c3a212aa203",
   "metadata": {},
   "outputs": [
    {
     "data": {
      "text/plain": [
       "(21940, 28)"
      ]
     },
     "execution_count": 24,
     "metadata": {},
     "output_type": "execute_result"
    }
   ],
   "source": [
    "data.shape"
   ]
  },
  {
   "cell_type": "markdown",
   "id": "2a2d52f6-55f6-44a7-9a66-15782e9b0b07",
   "metadata": {},
   "source": [
    "## Fill N/A data"
   ]
  },
  {
   "cell_type": "code",
   "execution_count": 25,
   "id": "c2ce11ce-4897-484a-be61-31508767c175",
   "metadata": {},
   "outputs": [
    {
     "data": {
      "text/plain": [
       "Patient_Age                      1415\n",
       "Genes_Mother_Side                   0\n",
       "Inherited_Father                  305\n",
       "Maternal_Gene                    2795\n",
       "Paternal_Gene                       0\n",
       "Blood_Cell_mcL                      0\n",
       "Mother_Age                       5995\n",
       "Father_Age                       5947\n",
       "Status                              0\n",
       "Respiratory_Rate_Breaths_Min     2134\n",
       "Heart_Rates_Min                  2100\n",
       "Follow_Up                        2158\n",
       "Gender                           2163\n",
       "Birth_Asphyxia                  12064\n",
       "Autopsy_Birth_Defect             4371\n",
       "Place_Birth                      2117\n",
       "Folic_Acid                       2103\n",
       "Maternal_Illness                 2140\n",
       "Radiation_Exposure              12024\n",
       "Substance_Abuse                 11994\n",
       "Assisted_Conception              2103\n",
       "History_Previous_Pregnancies     2159\n",
       "Previous_Abortion                2145\n",
       "Birth_Defects                    2138\n",
       "White_Blood_Cell                 2136\n",
       "Blood_Test_Result                2132\n",
       "Genetic_Disorder                 2132\n",
       "Disorder_Subclass                2156\n",
       "dtype: int64"
      ]
     },
     "execution_count": 25,
     "metadata": {},
     "output_type": "execute_result"
    }
   ],
   "source": [
    "data.isna().sum()"
   ]
  },
  {
   "cell_type": "code",
   "execution_count": 26,
   "id": "3e74bc4e-7567-441a-845f-30f1a29069ba",
   "metadata": {},
   "outputs": [],
   "source": [
    "# data[\"Genetic_Disorder\"].mode()\n",
    "\n",
    "# data.groupby([\"Disorder_Subclass\"])[\"Genetic_Disorder\"].agg(pd.Series.mode)\n",
    "# data.groupby([\"Disorder_Subclass\"])[\"Genetic_Disorder\"].apply(lambda x : x.mode())\n",
    "# data.groupby([\"Disorder_Subclass\"])[\"Genetic_Disorder\"].transform(lambda x : x.mode())[:15]\n",
    "\n",
    "# data.groupby([\"Disorder_Subclass\"])[\"Mother_Age\"].mean()\n",
    "# data.groupby([\"Disorder_Subclass\"])[\"Mother_Age\"].transform('mean')"
   ]
  },
  {
   "cell_type": "code",
   "execution_count": 27,
   "id": "5d2d943d-5f9f-4012-aa55-32c9c2283ba3",
   "metadata": {},
   "outputs": [],
   "source": [
    "data.drop(columns=[\"Genetic_Disorder\"], inplace=True)"
   ]
  },
  {
   "cell_type": "code",
   "execution_count": 28,
   "id": "afd1633b-3a26-43c9-a842-87ac1f11ca70",
   "metadata": {},
   "outputs": [
    {
     "name": "stdout",
     "output_type": "stream",
     "text": [
      "Patient_Age                    4.0\n",
      "Genes_Mother_Side              Yes\n",
      "Inherited_Father               No\n",
      "Maternal_Gene                  Yes\n",
      "Paternal_Gene                  No\n",
      "Blood_Cell_mcL                 4.357634000828609\n",
      "Mother_Age                     23.0\n",
      "Father_Age                     20.0\n",
      "Status                         Alive\n",
      "Respiratory_Rate_Breaths_Min   Normal (30-60)\n",
      "Heart_Rates_Min                Normal\n",
      "Follow_Up                      Low\n",
      "Gender                         Ambiguous\n",
      "Birth_Asphyxia                 Yes\n",
      "Autopsy_Birth_Defect           Not applicable\n",
      "Place_Birth                    Institute\n",
      "Folic_Acid                     Yes\n",
      "Maternal_Illness               No\n",
      "Radiation_Exposure             No\n",
      "Substance_Abuse                No\n",
      "Assisted_Conception            Yes\n",
      "History_Previous_Pregnancies   Yes\n",
      "Previous_Abortion              2.0\n",
      "Birth_Defects                  Singular\n",
      "White_Blood_Cell               3.0\n",
      "Blood_Test_Result              slightly abnormal\n",
      "Disorder_Subclass              Leigh syndrome\n"
     ]
    }
   ],
   "source": [
    "for c in data.columns:\n",
    "    print(f'{c : <30}', data[c].mode()[0])"
   ]
  },
  {
   "cell_type": "code",
   "execution_count": 29,
   "id": "08610742-35e4-4ca0-8b53-7ef5e1d6ba3d",
   "metadata": {},
   "outputs": [],
   "source": [
    "categorical.remove(\"Genetic_Disorder\")\n",
    "for c in categorical:\n",
    "    if(c != \"Disorder_Subclass\"):\n",
    "        data[c].fillna(data[c].mode()[0], inplace=True)"
   ]
  },
  {
   "cell_type": "code",
   "execution_count": 30,
   "id": "aae8c146-6ed8-41a1-8154-cca7454e08b6",
   "metadata": {},
   "outputs": [],
   "source": [
    "for c in numerical:\n",
    "    data[c].fillna(data.groupby([\"Disorder_Subclass\"])[c].transform('mean') , inplace=True)"
   ]
  },
  {
   "cell_type": "code",
   "execution_count": 31,
   "id": "155de07a-57e5-433c-b69f-2e48b046e76f",
   "metadata": {},
   "outputs": [
    {
     "data": {
      "text/plain": [
       "0"
      ]
     },
     "execution_count": 31,
     "metadata": {},
     "output_type": "execute_result"
    }
   ],
   "source": [
    "data.dropna(axis=0, inplace=True)\n",
    "data.isna().sum().sum()"
   ]
  },
  {
   "cell_type": "code",
   "execution_count": 32,
   "id": "7cb072a2-545c-4ece-b27d-5ad3e91ccb96",
   "metadata": {},
   "outputs": [
    {
     "name": "stdout",
     "output_type": "stream",
     "text": [
      "<class 'pandas.core.frame.DataFrame'>\n",
      "Index: 19784 entries, 0 to 22082\n",
      "Data columns (total 27 columns):\n",
      " #   Column                        Non-Null Count  Dtype  \n",
      "---  ------                        --------------  -----  \n",
      " 0   Patient_Age                   19784 non-null  float64\n",
      " 1   Genes_Mother_Side             19784 non-null  object \n",
      " 2   Inherited_Father              19784 non-null  object \n",
      " 3   Maternal_Gene                 19784 non-null  object \n",
      " 4   Paternal_Gene                 19784 non-null  object \n",
      " 5   Blood_Cell_mcL                19784 non-null  float64\n",
      " 6   Mother_Age                    19784 non-null  float64\n",
      " 7   Father_Age                    19784 non-null  float64\n",
      " 8   Status                        19784 non-null  object \n",
      " 9   Respiratory_Rate_Breaths_Min  19784 non-null  object \n",
      " 10  Heart_Rates_Min               19784 non-null  object \n",
      " 11  Follow_Up                     19784 non-null  object \n",
      " 12  Gender                        19784 non-null  object \n",
      " 13  Birth_Asphyxia                19784 non-null  object \n",
      " 14  Autopsy_Birth_Defect          19784 non-null  object \n",
      " 15  Place_Birth                   19784 non-null  object \n",
      " 16  Folic_Acid                    19784 non-null  object \n",
      " 17  Maternal_Illness              19784 non-null  object \n",
      " 18  Radiation_Exposure            19784 non-null  object \n",
      " 19  Substance_Abuse               19784 non-null  object \n",
      " 20  Assisted_Conception           19784 non-null  object \n",
      " 21  History_Previous_Pregnancies  19784 non-null  object \n",
      " 22  Previous_Abortion             19784 non-null  float64\n",
      " 23  Birth_Defects                 19784 non-null  object \n",
      " 24  White_Blood_Cell              19784 non-null  float64\n",
      " 25  Blood_Test_Result             19784 non-null  object \n",
      " 26  Disorder_Subclass             19784 non-null  object \n",
      "dtypes: float64(6), object(21)\n",
      "memory usage: 4.2+ MB\n"
     ]
    }
   ],
   "source": [
    "data.info()"
   ]
  },
  {
   "cell_type": "markdown",
   "id": "46de26f3-bab5-4cc8-a62d-0409ccfc0f1b",
   "metadata": {},
   "source": [
    "### Vectorization of categorical data"
   ]
  },
  {
   "cell_type": "code",
   "execution_count": 33,
   "id": "c46fd58a-e30b-4a11-a104-c3be91e61beb",
   "metadata": {},
   "outputs": [
    {
     "data": {
      "text/plain": [
       "Genes_Mother_Side               2\n",
       "Inherited_Father                2\n",
       "Maternal_Gene                   2\n",
       "Paternal_Gene                   2\n",
       "Status                          2\n",
       "Respiratory_Rate_Breaths_Min    2\n",
       "Heart_Rates_Min                 2\n",
       "Follow_Up                       2\n",
       "Gender                          3\n",
       "Birth_Asphyxia                  2\n",
       "Autopsy_Birth_Defect            3\n",
       "Place_Birth                     2\n",
       "Folic_Acid                      2\n",
       "Maternal_Illness                2\n",
       "Radiation_Exposure              2\n",
       "Substance_Abuse                 2\n",
       "Assisted_Conception             2\n",
       "History_Previous_Pregnancies    2\n",
       "Birth_Defects                   2\n",
       "Blood_Test_Result               4\n",
       "Disorder_Subclass               9\n",
       "dtype: int64"
      ]
     },
     "execution_count": 33,
     "metadata": {},
     "output_type": "execute_result"
    }
   ],
   "source": [
    "data[categorical].nunique()"
   ]
  },
  {
   "cell_type": "code",
   "execution_count": 34,
   "id": "bdcc174a-ede8-4128-909a-3212359aa5fd",
   "metadata": {},
   "outputs": [
    {
     "data": {
      "text/plain": [
       "['Gender', 'Autopsy_Birth_Defect', 'Blood_Test_Result']"
      ]
     },
     "execution_count": 34,
     "metadata": {},
     "output_type": "execute_result"
    }
   ],
   "source": [
    "binary = [c for c in categorical if len(data[c].unique()) == 2]\n",
    "nonbinary = [c for c in categorical if len(data[c].unique()) > 2]\n",
    "nonbinary.remove(\"Disorder_Subclass\")\n",
    "nonbinary"
   ]
  },
  {
   "cell_type": "code",
   "execution_count": 35,
   "id": "807d3099-de34-438f-aedd-a6d7f9d3387c",
   "metadata": {},
   "outputs": [],
   "source": [
    "for c in binary:\n",
    "    n = data[c].unique()\n",
    "    data[c].replace(n[0], 0, inplace=True)\n",
    "    data[c].replace(n[1], 1, inplace=True)"
   ]
  },
  {
   "cell_type": "code",
   "execution_count": 36,
   "id": "bae262fa-e9ba-499a-b1a5-d01f184bbc1f",
   "metadata": {},
   "outputs": [
    {
     "name": "stdout",
     "output_type": "stream",
     "text": [
      "Index(['Gender_Ambiguous', 'Gender_Female', 'Gender_Male',\n",
      "       'Autopsy_Birth_Defect_No', 'Autopsy_Birth_Defect_Not applicable',\n",
      "       'Autopsy_Birth_Defect_Yes', 'Blood_Test_Result_abnormal',\n",
      "       'Blood_Test_Result_inconclusive', 'Blood_Test_Result_normal',\n",
      "       'Blood_Test_Result_slightly abnormal'],\n",
      "      dtype='object')\n"
     ]
    }
   ],
   "source": [
    "data_nonbinary = pd.get_dummies(data[nonbinary])\n",
    "print(data_nonbinary.columns)"
   ]
  },
  {
   "cell_type": "code",
   "execution_count": 37,
   "id": "5c2c83d4-9a81-4125-8a3f-529f43c2aa56",
   "metadata": {},
   "outputs": [
    {
     "data": {
      "text/html": [
       "<div>\n",
       "<style scoped>\n",
       "    .dataframe tbody tr th:only-of-type {\n",
       "        vertical-align: middle;\n",
       "    }\n",
       "\n",
       "    .dataframe tbody tr th {\n",
       "        vertical-align: top;\n",
       "    }\n",
       "\n",
       "    .dataframe thead th {\n",
       "        text-align: right;\n",
       "    }\n",
       "</style>\n",
       "<table border=\"1\" class=\"dataframe\">\n",
       "  <thead>\n",
       "    <tr style=\"text-align: right;\">\n",
       "      <th></th>\n",
       "      <th>Gender_Ambiguous</th>\n",
       "      <th>Gender_Female</th>\n",
       "      <th>Gender_Male</th>\n",
       "      <th>Autopsy_Birth_Defect_No</th>\n",
       "      <th>Autopsy_Birth_Defect_Not applicable</th>\n",
       "      <th>Autopsy_Birth_Defect_Yes</th>\n",
       "      <th>Blood_Test_Result_abnormal</th>\n",
       "      <th>Blood_Test_Result_inconclusive</th>\n",
       "      <th>Blood_Test_Result_normal</th>\n",
       "      <th>Blood_Test_Result_slightly abnormal</th>\n",
       "    </tr>\n",
       "  </thead>\n",
       "  <tbody>\n",
       "    <tr>\n",
       "      <th>0</th>\n",
       "      <td>True</td>\n",
       "      <td>False</td>\n",
       "      <td>False</td>\n",
       "      <td>False</td>\n",
       "      <td>True</td>\n",
       "      <td>False</td>\n",
       "      <td>False</td>\n",
       "      <td>False</td>\n",
       "      <td>False</td>\n",
       "      <td>True</td>\n",
       "    </tr>\n",
       "    <tr>\n",
       "      <th>1</th>\n",
       "      <td>True</td>\n",
       "      <td>False</td>\n",
       "      <td>False</td>\n",
       "      <td>False</td>\n",
       "      <td>True</td>\n",
       "      <td>False</td>\n",
       "      <td>False</td>\n",
       "      <td>False</td>\n",
       "      <td>True</td>\n",
       "      <td>False</td>\n",
       "    </tr>\n",
       "    <tr>\n",
       "      <th>2</th>\n",
       "      <td>True</td>\n",
       "      <td>False</td>\n",
       "      <td>False</td>\n",
       "      <td>False</td>\n",
       "      <td>True</td>\n",
       "      <td>False</td>\n",
       "      <td>False</td>\n",
       "      <td>False</td>\n",
       "      <td>True</td>\n",
       "      <td>False</td>\n",
       "    </tr>\n",
       "    <tr>\n",
       "      <th>3</th>\n",
       "      <td>False</td>\n",
       "      <td>False</td>\n",
       "      <td>True</td>\n",
       "      <td>True</td>\n",
       "      <td>False</td>\n",
       "      <td>False</td>\n",
       "      <td>False</td>\n",
       "      <td>True</td>\n",
       "      <td>False</td>\n",
       "      <td>False</td>\n",
       "    </tr>\n",
       "    <tr>\n",
       "      <th>4</th>\n",
       "      <td>False</td>\n",
       "      <td>False</td>\n",
       "      <td>True</td>\n",
       "      <td>False</td>\n",
       "      <td>True</td>\n",
       "      <td>False</td>\n",
       "      <td>False</td>\n",
       "      <td>False</td>\n",
       "      <td>False</td>\n",
       "      <td>True</td>\n",
       "    </tr>\n",
       "  </tbody>\n",
       "</table>\n",
       "</div>"
      ],
      "text/plain": [
       "   Gender_Ambiguous  Gender_Female  Gender_Male  Autopsy_Birth_Defect_No  \\\n",
       "0              True          False        False                    False   \n",
       "1              True          False        False                    False   \n",
       "2              True          False        False                    False   \n",
       "3             False          False         True                     True   \n",
       "4             False          False         True                    False   \n",
       "\n",
       "   Autopsy_Birth_Defect_Not applicable  Autopsy_Birth_Defect_Yes  \\\n",
       "0                                 True                     False   \n",
       "1                                 True                     False   \n",
       "2                                 True                     False   \n",
       "3                                False                     False   \n",
       "4                                 True                     False   \n",
       "\n",
       "   Blood_Test_Result_abnormal  Blood_Test_Result_inconclusive  \\\n",
       "0                       False                           False   \n",
       "1                       False                           False   \n",
       "2                       False                           False   \n",
       "3                       False                            True   \n",
       "4                       False                           False   \n",
       "\n",
       "   Blood_Test_Result_normal  Blood_Test_Result_slightly abnormal  \n",
       "0                     False                                 True  \n",
       "1                      True                                False  \n",
       "2                      True                                False  \n",
       "3                     False                                False  \n",
       "4                     False                                 True  "
      ]
     },
     "execution_count": 37,
     "metadata": {},
     "output_type": "execute_result"
    }
   ],
   "source": [
    "data_nonbinary.head()"
   ]
  },
  {
   "cell_type": "markdown",
   "id": "d36599b0-1b93-42c2-8504-30bda4490446",
   "metadata": {},
   "source": [
    "### Normalize quantitative features"
   ]
  },
  {
   "cell_type": "code",
   "execution_count": 38,
   "id": "fb24dd71-9d60-458a-8861-609d80e1c615",
   "metadata": {},
   "outputs": [
    {
     "data": {
      "text/html": [
       "<div>\n",
       "<style scoped>\n",
       "    .dataframe tbody tr th:only-of-type {\n",
       "        vertical-align: middle;\n",
       "    }\n",
       "\n",
       "    .dataframe tbody tr th {\n",
       "        vertical-align: top;\n",
       "    }\n",
       "\n",
       "    .dataframe thead th {\n",
       "        text-align: right;\n",
       "    }\n",
       "</style>\n",
       "<table border=\"1\" class=\"dataframe\">\n",
       "  <thead>\n",
       "    <tr style=\"text-align: right;\">\n",
       "      <th></th>\n",
       "      <th>Patient_Age</th>\n",
       "      <th>Blood_Cell_mcL</th>\n",
       "      <th>Mother_Age</th>\n",
       "      <th>Father_Age</th>\n",
       "      <th>Previous_Abortion</th>\n",
       "      <th>White_Blood_Cell</th>\n",
       "    </tr>\n",
       "  </thead>\n",
       "  <tbody>\n",
       "    <tr>\n",
       "      <th>count</th>\n",
       "      <td>19784.000000</td>\n",
       "      <td>19784.000000</td>\n",
       "      <td>19784.000000</td>\n",
       "      <td>19784.000000</td>\n",
       "      <td>19784.000000</td>\n",
       "      <td>19784.000000</td>\n",
       "    </tr>\n",
       "    <tr>\n",
       "      <th>mean</th>\n",
       "      <td>6.946371</td>\n",
       "      <td>4.898718</td>\n",
       "      <td>34.543872</td>\n",
       "      <td>41.964605</td>\n",
       "      <td>2.002872</td>\n",
       "      <td>7.479927</td>\n",
       "    </tr>\n",
       "    <tr>\n",
       "      <th>std</th>\n",
       "      <td>4.178293</td>\n",
       "      <td>0.194455</td>\n",
       "      <td>8.460585</td>\n",
       "      <td>11.262538</td>\n",
       "      <td>1.343448</td>\n",
       "      <td>2.526946</td>\n",
       "    </tr>\n",
       "    <tr>\n",
       "      <th>min</th>\n",
       "      <td>0.000000</td>\n",
       "      <td>4.357634</td>\n",
       "      <td>18.000000</td>\n",
       "      <td>20.000000</td>\n",
       "      <td>0.000000</td>\n",
       "      <td>3.000000</td>\n",
       "    </tr>\n",
       "    <tr>\n",
       "      <th>25%</th>\n",
       "      <td>3.000000</td>\n",
       "      <td>4.764380</td>\n",
       "      <td>29.000000</td>\n",
       "      <td>34.000000</td>\n",
       "      <td>1.000000</td>\n",
       "      <td>5.640401</td>\n",
       "    </tr>\n",
       "    <tr>\n",
       "      <th>50%</th>\n",
       "      <td>7.000000</td>\n",
       "      <td>4.899377</td>\n",
       "      <td>34.476078</td>\n",
       "      <td>42.000000</td>\n",
       "      <td>2.000000</td>\n",
       "      <td>7.487254</td>\n",
       "    </tr>\n",
       "    <tr>\n",
       "      <th>75%</th>\n",
       "      <td>10.000000</td>\n",
       "      <td>5.032267</td>\n",
       "      <td>40.000000</td>\n",
       "      <td>50.000000</td>\n",
       "      <td>3.000000</td>\n",
       "      <td>9.283591</td>\n",
       "    </tr>\n",
       "    <tr>\n",
       "      <th>max</th>\n",
       "      <td>14.000000</td>\n",
       "      <td>5.439651</td>\n",
       "      <td>51.000000</td>\n",
       "      <td>64.000000</td>\n",
       "      <td>4.000000</td>\n",
       "      <td>12.000000</td>\n",
       "    </tr>\n",
       "  </tbody>\n",
       "</table>\n",
       "</div>"
      ],
      "text/plain": [
       "        Patient_Age  Blood_Cell_mcL    Mother_Age    Father_Age  \\\n",
       "count  19784.000000    19784.000000  19784.000000  19784.000000   \n",
       "mean       6.946371        4.898718     34.543872     41.964605   \n",
       "std        4.178293        0.194455      8.460585     11.262538   \n",
       "min        0.000000        4.357634     18.000000     20.000000   \n",
       "25%        3.000000        4.764380     29.000000     34.000000   \n",
       "50%        7.000000        4.899377     34.476078     42.000000   \n",
       "75%       10.000000        5.032267     40.000000     50.000000   \n",
       "max       14.000000        5.439651     51.000000     64.000000   \n",
       "\n",
       "       Previous_Abortion  White_Blood_Cell  \n",
       "count       19784.000000      19784.000000  \n",
       "mean            2.002872          7.479927  \n",
       "std             1.343448          2.526946  \n",
       "min             0.000000          3.000000  \n",
       "25%             1.000000          5.640401  \n",
       "50%             2.000000          7.487254  \n",
       "75%             3.000000          9.283591  \n",
       "max             4.000000         12.000000  "
      ]
     },
     "execution_count": 38,
     "metadata": {},
     "output_type": "execute_result"
    }
   ],
   "source": [
    "data_num = data[numerical]\n",
    "data_num.describe()"
   ]
  },
  {
   "cell_type": "code",
   "execution_count": 39,
   "id": "5655094c-4122-462a-93b9-416c29a14119",
   "metadata": {},
   "outputs": [
    {
     "data": {
      "text/html": [
       "<div>\n",
       "<style scoped>\n",
       "    .dataframe tbody tr th:only-of-type {\n",
       "        vertical-align: middle;\n",
       "    }\n",
       "\n",
       "    .dataframe tbody tr th {\n",
       "        vertical-align: top;\n",
       "    }\n",
       "\n",
       "    .dataframe thead th {\n",
       "        text-align: right;\n",
       "    }\n",
       "</style>\n",
       "<table border=\"1\" class=\"dataframe\">\n",
       "  <thead>\n",
       "    <tr style=\"text-align: right;\">\n",
       "      <th></th>\n",
       "      <th>Patient_Age</th>\n",
       "      <th>Blood_Cell_mcL</th>\n",
       "      <th>Mother_Age</th>\n",
       "      <th>Father_Age</th>\n",
       "      <th>Previous_Abortion</th>\n",
       "      <th>White_Blood_Cell</th>\n",
       "    </tr>\n",
       "  </thead>\n",
       "  <tbody>\n",
       "    <tr>\n",
       "      <th>count</th>\n",
       "      <td>1.978400e+04</td>\n",
       "      <td>1.978400e+04</td>\n",
       "      <td>1.978400e+04</td>\n",
       "      <td>1.978400e+04</td>\n",
       "      <td>1.978400e+04</td>\n",
       "      <td>1.978400e+04</td>\n",
       "    </tr>\n",
       "    <tr>\n",
       "      <th>mean</th>\n",
       "      <td>1.199562e-16</td>\n",
       "      <td>-2.907680e-15</td>\n",
       "      <td>6.784347e-16</td>\n",
       "      <td>6.689172e-17</td>\n",
       "      <td>-7.183004e-17</td>\n",
       "      <td>9.409735e-17</td>\n",
       "    </tr>\n",
       "    <tr>\n",
       "      <th>std</th>\n",
       "      <td>1.000000e+00</td>\n",
       "      <td>1.000000e+00</td>\n",
       "      <td>1.000000e+00</td>\n",
       "      <td>1.000000e+00</td>\n",
       "      <td>1.000000e+00</td>\n",
       "      <td>1.000000e+00</td>\n",
       "    </tr>\n",
       "    <tr>\n",
       "      <th>min</th>\n",
       "      <td>-1.662490e+00</td>\n",
       "      <td>-2.782562e+00</td>\n",
       "      <td>-1.955405e+00</td>\n",
       "      <td>-1.950236e+00</td>\n",
       "      <td>-1.490844e+00</td>\n",
       "      <td>-1.772862e+00</td>\n",
       "    </tr>\n",
       "    <tr>\n",
       "      <th>25%</th>\n",
       "      <td>-9.444937e-01</td>\n",
       "      <td>-6.908437e-01</td>\n",
       "      <td>-6.552587e-01</td>\n",
       "      <td>-7.071767e-01</td>\n",
       "      <td>-7.464908e-01</td>\n",
       "      <td>-7.279638e-01</td>\n",
       "    </tr>\n",
       "    <tr>\n",
       "      <th>50%</th>\n",
       "      <td>1.283511e-02</td>\n",
       "      <td>3.392367e-03</td>\n",
       "      <td>-8.012987e-03</td>\n",
       "      <td>3.142755e-03</td>\n",
       "      <td>-2.137433e-03</td>\n",
       "      <td>2.899695e-03</td>\n",
       "    </tr>\n",
       "    <tr>\n",
       "      <th>75%</th>\n",
       "      <td>7.308317e-01</td>\n",
       "      <td>6.867842e-01</td>\n",
       "      <td>6.448877e-01</td>\n",
       "      <td>7.134622e-01</td>\n",
       "      <td>7.422159e-01</td>\n",
       "      <td>7.137723e-01</td>\n",
       "    </tr>\n",
       "    <tr>\n",
       "      <th>max</th>\n",
       "      <td>1.688160e+00</td>\n",
       "      <td>2.781786e+00</td>\n",
       "      <td>1.945034e+00</td>\n",
       "      <td>1.956521e+00</td>\n",
       "      <td>1.486569e+00</td>\n",
       "      <td>1.788749e+00</td>\n",
       "    </tr>\n",
       "  </tbody>\n",
       "</table>\n",
       "</div>"
      ],
      "text/plain": [
       "        Patient_Age  Blood_Cell_mcL    Mother_Age    Father_Age  \\\n",
       "count  1.978400e+04    1.978400e+04  1.978400e+04  1.978400e+04   \n",
       "mean   1.199562e-16   -2.907680e-15  6.784347e-16  6.689172e-17   \n",
       "std    1.000000e+00    1.000000e+00  1.000000e+00  1.000000e+00   \n",
       "min   -1.662490e+00   -2.782562e+00 -1.955405e+00 -1.950236e+00   \n",
       "25%   -9.444937e-01   -6.908437e-01 -6.552587e-01 -7.071767e-01   \n",
       "50%    1.283511e-02    3.392367e-03 -8.012987e-03  3.142755e-03   \n",
       "75%    7.308317e-01    6.867842e-01  6.448877e-01  7.134622e-01   \n",
       "max    1.688160e+00    2.781786e+00  1.945034e+00  1.956521e+00   \n",
       "\n",
       "       Previous_Abortion  White_Blood_Cell  \n",
       "count       1.978400e+04      1.978400e+04  \n",
       "mean       -7.183004e-17      9.409735e-17  \n",
       "std         1.000000e+00      1.000000e+00  \n",
       "min        -1.490844e+00     -1.772862e+00  \n",
       "25%        -7.464908e-01     -7.279638e-01  \n",
       "50%        -2.137433e-03      2.899695e-03  \n",
       "75%         7.422159e-01      7.137723e-01  \n",
       "max         1.486569e+00      1.788749e+00  "
      ]
     },
     "execution_count": 39,
     "metadata": {},
     "output_type": "execute_result"
    }
   ],
   "source": [
    "data_num = (data_num - data_num.mean(axis = 0))/data_num.std(axis = 0)\n",
    "data_num.describe()"
   ]
  },
  {
   "cell_type": "markdown",
   "id": "c6038480-6124-4a74-97b6-dc43fb5578f5",
   "metadata": {},
   "source": [
    "### Merge numerical, nonbinary, binary"
   ]
  },
  {
   "cell_type": "code",
   "execution_count": 40,
   "id": "97382368-fc77-4b64-9d3d-483a19d5f1f9",
   "metadata": {},
   "outputs": [],
   "source": [
    "data = pd.concat((data_num, data[binary], data_nonbinary, data[\"Disorder_Subclass\"]), axis=1)"
   ]
  },
  {
   "cell_type": "code",
   "execution_count": 41,
   "id": "ae398a8d-69ba-4ff7-8be5-40dfd23d17d2",
   "metadata": {},
   "outputs": [
    {
     "name": "stdout",
     "output_type": "stream",
     "text": [
      "<class 'pandas.core.frame.DataFrame'>\n",
      "Index: 19784 entries, 0 to 22082\n",
      "Data columns (total 34 columns):\n",
      " #   Column                               Non-Null Count  Dtype  \n",
      "---  ------                               --------------  -----  \n",
      " 0   Patient_Age                          19784 non-null  float64\n",
      " 1   Blood_Cell_mcL                       19784 non-null  float64\n",
      " 2   Mother_Age                           19784 non-null  float64\n",
      " 3   Father_Age                           19784 non-null  float64\n",
      " 4   Previous_Abortion                    19784 non-null  float64\n",
      " 5   White_Blood_Cell                     19784 non-null  float64\n",
      " 6   Genes_Mother_Side                    19784 non-null  int64  \n",
      " 7   Inherited_Father                     19784 non-null  int64  \n",
      " 8   Maternal_Gene                        19784 non-null  int64  \n",
      " 9   Paternal_Gene                        19784 non-null  int64  \n",
      " 10  Status                               19784 non-null  int64  \n",
      " 11  Respiratory_Rate_Breaths_Min         19784 non-null  int64  \n",
      " 12  Heart_Rates_Min                      19784 non-null  int64  \n",
      " 13  Follow_Up                            19784 non-null  int64  \n",
      " 14  Birth_Asphyxia                       19784 non-null  int64  \n",
      " 15  Place_Birth                          19784 non-null  int64  \n",
      " 16  Folic_Acid                           19784 non-null  int64  \n",
      " 17  Maternal_Illness                     19784 non-null  int64  \n",
      " 18  Radiation_Exposure                   19784 non-null  int64  \n",
      " 19  Substance_Abuse                      19784 non-null  int64  \n",
      " 20  Assisted_Conception                  19784 non-null  int64  \n",
      " 21  History_Previous_Pregnancies         19784 non-null  int64  \n",
      " 22  Birth_Defects                        19784 non-null  int64  \n",
      " 23  Gender_Ambiguous                     19784 non-null  bool   \n",
      " 24  Gender_Female                        19784 non-null  bool   \n",
      " 25  Gender_Male                          19784 non-null  bool   \n",
      " 26  Autopsy_Birth_Defect_No              19784 non-null  bool   \n",
      " 27  Autopsy_Birth_Defect_Not applicable  19784 non-null  bool   \n",
      " 28  Autopsy_Birth_Defect_Yes             19784 non-null  bool   \n",
      " 29  Blood_Test_Result_abnormal           19784 non-null  bool   \n",
      " 30  Blood_Test_Result_inconclusive       19784 non-null  bool   \n",
      " 31  Blood_Test_Result_normal             19784 non-null  bool   \n",
      " 32  Blood_Test_Result_slightly abnormal  19784 non-null  bool   \n",
      " 33  Disorder_Subclass                    19784 non-null  object \n",
      "dtypes: bool(10), float64(6), int64(17), object(1)\n",
      "memory usage: 4.0+ MB\n"
     ]
    }
   ],
   "source": [
    "data.info()"
   ]
  },
  {
   "cell_type": "markdown",
   "id": "d341a53e-e972-4747-a152-b671cfe86ac4",
   "metadata": {},
   "source": [
    "## Split into train and test"
   ]
  },
  {
   "cell_type": "code",
   "execution_count": 42,
   "id": "ed59bde3-56f8-4238-b2ee-015e654913af",
   "metadata": {},
   "outputs": [],
   "source": [
    "X = data.drop(\"Disorder_Subclass\", axis=1) # Drop target\n",
    "X = X.to_numpy()"
   ]
  },
  {
   "cell_type": "code",
   "execution_count": 43,
   "id": "a1cd4f6d-af2a-42a1-89f9-85f6af9fcab1",
   "metadata": {},
   "outputs": [],
   "source": [
    "Y = data[\"Disorder_Subclass\"]\n",
    "Y = pd.get_dummies(Y)\n",
    "Y = Y.to_numpy()"
   ]
  },
  {
   "cell_type": "code",
   "execution_count": 44,
   "id": "69aa3b67-cbbc-4763-8734-c0a079951460",
   "metadata": {},
   "outputs": [
    {
     "name": "stdout",
     "output_type": "stream",
     "text": [
      "(13848, 33) (13848, 9) (5936, 33) (5936, 9)\n"
     ]
    }
   ],
   "source": [
    "from sklearn.model_selection import train_test_split\n",
    "\n",
    "X_train, X_test, Y_train, Y_test = train_test_split(X, Y, test_size = 0.3, random_state = 42)\n",
    "print(X_train.shape, Y_train.shape, X_test.shape, Y_test.shape)"
   ]
  },
  {
   "cell_type": "markdown",
   "id": "f7e4f6c6-2bf6-4cb8-950a-ef939106a1f7",
   "metadata": {},
   "source": [
    "## Test learning algorithms"
   ]
  },
  {
   "cell_type": "markdown",
   "id": "526c974b-c45f-4008-84e9-d87d1566bb76",
   "metadata": {},
   "source": [
    "### KNN"
   ]
  },
  {
   "cell_type": "code",
   "execution_count": 47,
   "id": "f9fa40fb-0ac9-4b8e-a45c-929e4def3663",
   "metadata": {},
   "outputs": [
    {
     "data": {
      "text/html": [
       "<style>#sk-container-id-2 {color: black;}#sk-container-id-2 pre{padding: 0;}#sk-container-id-2 div.sk-toggleable {background-color: white;}#sk-container-id-2 label.sk-toggleable__label {cursor: pointer;display: block;width: 100%;margin-bottom: 0;padding: 0.3em;box-sizing: border-box;text-align: center;}#sk-container-id-2 label.sk-toggleable__label-arrow:before {content: \"▸\";float: left;margin-right: 0.25em;color: #696969;}#sk-container-id-2 label.sk-toggleable__label-arrow:hover:before {color: black;}#sk-container-id-2 div.sk-estimator:hover label.sk-toggleable__label-arrow:before {color: black;}#sk-container-id-2 div.sk-toggleable__content {max-height: 0;max-width: 0;overflow: hidden;text-align: left;background-color: #f0f8ff;}#sk-container-id-2 div.sk-toggleable__content pre {margin: 0.2em;color: black;border-radius: 0.25em;background-color: #f0f8ff;}#sk-container-id-2 input.sk-toggleable__control:checked~div.sk-toggleable__content {max-height: 200px;max-width: 100%;overflow: auto;}#sk-container-id-2 input.sk-toggleable__control:checked~label.sk-toggleable__label-arrow:before {content: \"▾\";}#sk-container-id-2 div.sk-estimator input.sk-toggleable__control:checked~label.sk-toggleable__label {background-color: #d4ebff;}#sk-container-id-2 div.sk-label input.sk-toggleable__control:checked~label.sk-toggleable__label {background-color: #d4ebff;}#sk-container-id-2 input.sk-hidden--visually {border: 0;clip: rect(1px 1px 1px 1px);clip: rect(1px, 1px, 1px, 1px);height: 1px;margin: -1px;overflow: hidden;padding: 0;position: absolute;width: 1px;}#sk-container-id-2 div.sk-estimator {font-family: monospace;background-color: #f0f8ff;border: 1px dotted black;border-radius: 0.25em;box-sizing: border-box;margin-bottom: 0.5em;}#sk-container-id-2 div.sk-estimator:hover {background-color: #d4ebff;}#sk-container-id-2 div.sk-parallel-item::after {content: \"\";width: 100%;border-bottom: 1px solid gray;flex-grow: 1;}#sk-container-id-2 div.sk-label:hover label.sk-toggleable__label {background-color: #d4ebff;}#sk-container-id-2 div.sk-serial::before {content: \"\";position: absolute;border-left: 1px solid gray;box-sizing: border-box;top: 0;bottom: 0;left: 50%;z-index: 0;}#sk-container-id-2 div.sk-serial {display: flex;flex-direction: column;align-items: center;background-color: white;padding-right: 0.2em;padding-left: 0.2em;position: relative;}#sk-container-id-2 div.sk-item {position: relative;z-index: 1;}#sk-container-id-2 div.sk-parallel {display: flex;align-items: stretch;justify-content: center;background-color: white;position: relative;}#sk-container-id-2 div.sk-item::before, #sk-container-id-2 div.sk-parallel-item::before {content: \"\";position: absolute;border-left: 1px solid gray;box-sizing: border-box;top: 0;bottom: 0;left: 50%;z-index: -1;}#sk-container-id-2 div.sk-parallel-item {display: flex;flex-direction: column;z-index: 1;position: relative;background-color: white;}#sk-container-id-2 div.sk-parallel-item:first-child::after {align-self: flex-end;width: 50%;}#sk-container-id-2 div.sk-parallel-item:last-child::after {align-self: flex-start;width: 50%;}#sk-container-id-2 div.sk-parallel-item:only-child::after {width: 0;}#sk-container-id-2 div.sk-dashed-wrapped {border: 1px dashed gray;margin: 0 0.4em 0.5em 0.4em;box-sizing: border-box;padding-bottom: 0.4em;background-color: white;}#sk-container-id-2 div.sk-label label {font-family: monospace;font-weight: bold;display: inline-block;line-height: 1.2em;}#sk-container-id-2 div.sk-label-container {text-align: center;}#sk-container-id-2 div.sk-container {/* jupyter's `normalize.less` sets `[hidden] { display: none; }` but bootstrap.min.css set `[hidden] { display: none !important; }` so we also need the `!important` here to be able to override the default hidden behavior on the sphinx rendered scikit-learn.org. See: https://github.com/scikit-learn/scikit-learn/issues/21755 */display: inline-block !important;position: relative;}#sk-container-id-2 div.sk-text-repr-fallback {display: none;}</style><div id=\"sk-container-id-2\" class=\"sk-top-container\"><div class=\"sk-text-repr-fallback\"><pre>KNeighborsClassifier(n_neighbors=10)</pre><b>In a Jupyter environment, please rerun this cell to show the HTML representation or trust the notebook. <br />On GitHub, the HTML representation is unable to render, please try loading this page with nbviewer.org.</b></div><div class=\"sk-container\" hidden><div class=\"sk-item\"><div class=\"sk-estimator sk-toggleable\"><input class=\"sk-toggleable__control sk-hidden--visually\" id=\"sk-estimator-id-2\" type=\"checkbox\" checked><label for=\"sk-estimator-id-2\" class=\"sk-toggleable__label sk-toggleable__label-arrow\">KNeighborsClassifier</label><div class=\"sk-toggleable__content\"><pre>KNeighborsClassifier(n_neighbors=10)</pre></div></div></div></div></div>"
      ],
      "text/plain": [
       "KNeighborsClassifier(n_neighbors=10)"
      ]
     },
     "execution_count": 47,
     "metadata": {},
     "output_type": "execute_result"
    }
   ],
   "source": [
    "from sklearn.neighbors import KNeighborsClassifier\n",
    "knn = KNeighborsClassifier(n_neighbors = 10)\n",
    "knn.fit(X_train, Y_train)"
   ]
  },
  {
   "cell_type": "code",
   "execution_count": 48,
   "id": "890c3704-a23e-421c-95a8-c64e3c8dad96",
   "metadata": {},
   "outputs": [
    {
     "name": "stdout",
     "output_type": "stream",
     "text": [
      "Error:  0.11313267445342917\n"
     ]
    }
   ],
   "source": [
    "Y_test_predict = knn.predict(X_test)\n",
    "err_test  = np.mean(Y_test != Y_test_predict)\n",
    "print(\"Error: \", err_test)"
   ]
  },
  {
   "cell_type": "code",
   "execution_count": 64,
   "id": "3f2e0df1-6995-4bff-b4f2-fb126a5aad2a",
   "metadata": {},
   "outputs": [
    {
     "name": "stdout",
     "output_type": "stream",
     "text": [
      "Error:  0.11122342018568433\n"
     ]
    }
   ],
   "source": [
    "knn = KNeighborsClassifier(n_neighbors = 20, n_jobs=-1)\n",
    "knn.fit(X_train, Y_train)\n",
    "Y_test_predict = knn.predict(X_test)\n",
    "err_test  = np.mean(Y_test != Y_test_predict)\n",
    "print(\"Error: \", err_test)"
   ]
  },
  {
   "cell_type": "code",
   "execution_count": 66,
   "id": "34d5fc99-e1a9-4a1b-b56d-df6175eea7ff",
   "metadata": {},
   "outputs": [
    {
     "name": "stdout",
     "output_type": "stream",
     "text": [
      "Error:  0.1111111111111111\n"
     ]
    }
   ],
   "source": [
    "knn = KNeighborsClassifier(n_neighbors = 50, n_jobs=-1)\n",
    "knn.fit(X_train, Y_train)\n",
    "Y_test_predict = knn.predict(X_test)\n",
    "err_test  = np.mean(Y_test != Y_test_predict)\n",
    "print(\"Error: \", err_test)"
   ]
  },
  {
   "cell_type": "code",
   "execution_count": 67,
   "id": "da4e9920-6118-443f-9df8-d5842d2f1209",
   "metadata": {},
   "outputs": [
    {
     "name": "stdout",
     "output_type": "stream",
     "text": [
      "Error:  0.1111111111111111\n"
     ]
    }
   ],
   "source": [
    "knn = KNeighborsClassifier(n_neighbors = 150, n_jobs=-1)\n",
    "knn.fit(X_train, Y_train)\n",
    "Y_test_predict = knn.predict(X_test)\n",
    "err_test  = np.mean(Y_test != Y_test_predict)\n",
    "print(\"Error: \", err_test)"
   ]
  },
  {
   "cell_type": "markdown",
   "id": "95b86f54-4593-4ac1-8eb2-1bfccea73966",
   "metadata": {},
   "source": [
    "- n_neighbours=50 is optimal hyperparameter value"
   ]
  },
  {
   "cell_type": "markdown",
   "id": "703c40b5-d262-4c93-9c85-4f5526229d2a",
   "metadata": {},
   "source": [
    "### Random Forest\n",
    "Is used for classification problems with categorical target variables."
   ]
  },
  {
   "cell_type": "code",
   "execution_count": 69,
   "id": "bebce33c-d983-4914-8ba1-55db08771244",
   "metadata": {},
   "outputs": [],
   "source": [
    "from sklearn import ensemble"
   ]
  },
  {
   "cell_type": "code",
   "execution_count": 56,
   "id": "653380e7-ca35-40b4-acc8-0f56877f0bdb",
   "metadata": {},
   "outputs": [
    {
     "data": {
      "text/html": [
       "<style>#sk-container-id-4 {color: black;}#sk-container-id-4 pre{padding: 0;}#sk-container-id-4 div.sk-toggleable {background-color: white;}#sk-container-id-4 label.sk-toggleable__label {cursor: pointer;display: block;width: 100%;margin-bottom: 0;padding: 0.3em;box-sizing: border-box;text-align: center;}#sk-container-id-4 label.sk-toggleable__label-arrow:before {content: \"▸\";float: left;margin-right: 0.25em;color: #696969;}#sk-container-id-4 label.sk-toggleable__label-arrow:hover:before {color: black;}#sk-container-id-4 div.sk-estimator:hover label.sk-toggleable__label-arrow:before {color: black;}#sk-container-id-4 div.sk-toggleable__content {max-height: 0;max-width: 0;overflow: hidden;text-align: left;background-color: #f0f8ff;}#sk-container-id-4 div.sk-toggleable__content pre {margin: 0.2em;color: black;border-radius: 0.25em;background-color: #f0f8ff;}#sk-container-id-4 input.sk-toggleable__control:checked~div.sk-toggleable__content {max-height: 200px;max-width: 100%;overflow: auto;}#sk-container-id-4 input.sk-toggleable__control:checked~label.sk-toggleable__label-arrow:before {content: \"▾\";}#sk-container-id-4 div.sk-estimator input.sk-toggleable__control:checked~label.sk-toggleable__label {background-color: #d4ebff;}#sk-container-id-4 div.sk-label input.sk-toggleable__control:checked~label.sk-toggleable__label {background-color: #d4ebff;}#sk-container-id-4 input.sk-hidden--visually {border: 0;clip: rect(1px 1px 1px 1px);clip: rect(1px, 1px, 1px, 1px);height: 1px;margin: -1px;overflow: hidden;padding: 0;position: absolute;width: 1px;}#sk-container-id-4 div.sk-estimator {font-family: monospace;background-color: #f0f8ff;border: 1px dotted black;border-radius: 0.25em;box-sizing: border-box;margin-bottom: 0.5em;}#sk-container-id-4 div.sk-estimator:hover {background-color: #d4ebff;}#sk-container-id-4 div.sk-parallel-item::after {content: \"\";width: 100%;border-bottom: 1px solid gray;flex-grow: 1;}#sk-container-id-4 div.sk-label:hover label.sk-toggleable__label {background-color: #d4ebff;}#sk-container-id-4 div.sk-serial::before {content: \"\";position: absolute;border-left: 1px solid gray;box-sizing: border-box;top: 0;bottom: 0;left: 50%;z-index: 0;}#sk-container-id-4 div.sk-serial {display: flex;flex-direction: column;align-items: center;background-color: white;padding-right: 0.2em;padding-left: 0.2em;position: relative;}#sk-container-id-4 div.sk-item {position: relative;z-index: 1;}#sk-container-id-4 div.sk-parallel {display: flex;align-items: stretch;justify-content: center;background-color: white;position: relative;}#sk-container-id-4 div.sk-item::before, #sk-container-id-4 div.sk-parallel-item::before {content: \"\";position: absolute;border-left: 1px solid gray;box-sizing: border-box;top: 0;bottom: 0;left: 50%;z-index: -1;}#sk-container-id-4 div.sk-parallel-item {display: flex;flex-direction: column;z-index: 1;position: relative;background-color: white;}#sk-container-id-4 div.sk-parallel-item:first-child::after {align-self: flex-end;width: 50%;}#sk-container-id-4 div.sk-parallel-item:last-child::after {align-self: flex-start;width: 50%;}#sk-container-id-4 div.sk-parallel-item:only-child::after {width: 0;}#sk-container-id-4 div.sk-dashed-wrapped {border: 1px dashed gray;margin: 0 0.4em 0.5em 0.4em;box-sizing: border-box;padding-bottom: 0.4em;background-color: white;}#sk-container-id-4 div.sk-label label {font-family: monospace;font-weight: bold;display: inline-block;line-height: 1.2em;}#sk-container-id-4 div.sk-label-container {text-align: center;}#sk-container-id-4 div.sk-container {/* jupyter's `normalize.less` sets `[hidden] { display: none; }` but bootstrap.min.css set `[hidden] { display: none !important; }` so we also need the `!important` here to be able to override the default hidden behavior on the sphinx rendered scikit-learn.org. See: https://github.com/scikit-learn/scikit-learn/issues/21755 */display: inline-block !important;position: relative;}#sk-container-id-4 div.sk-text-repr-fallback {display: none;}</style><div id=\"sk-container-id-4\" class=\"sk-top-container\"><div class=\"sk-text-repr-fallback\"><pre>RandomForestClassifier(n_estimators=1000, n_jobs=-1)</pre><b>In a Jupyter environment, please rerun this cell to show the HTML representation or trust the notebook. <br />On GitHub, the HTML representation is unable to render, please try loading this page with nbviewer.org.</b></div><div class=\"sk-container\" hidden><div class=\"sk-item\"><div class=\"sk-estimator sk-toggleable\"><input class=\"sk-toggleable__control sk-hidden--visually\" id=\"sk-estimator-id-4\" type=\"checkbox\" checked><label for=\"sk-estimator-id-4\" class=\"sk-toggleable__label sk-toggleable__label-arrow\">RandomForestClassifier</label><div class=\"sk-toggleable__content\"><pre>RandomForestClassifier(n_estimators=1000, n_jobs=-1)</pre></div></div></div></div></div>"
      ],
      "text/plain": [
       "RandomForestClassifier(n_estimators=1000, n_jobs=-1)"
      ]
     },
     "execution_count": 56,
     "metadata": {},
     "output_type": "execute_result"
    }
   ],
   "source": [
    "rf = ensemble.RandomForestClassifier(n_estimators = 1000, n_jobs=-1)\n",
    "rf.fit(X_train, Y_train)"
   ]
  },
  {
   "cell_type": "code",
   "execution_count": 57,
   "id": "de53cb57-bf99-42ff-83ba-391a6e68b7b2",
   "metadata": {},
   "outputs": [
    {
     "name": "stdout",
     "output_type": "stream",
     "text": [
      "0.0 0.08623465109314166\n"
     ]
    }
   ],
   "source": [
    "err_train = np.mean(Y_train != rf.predict(X_train))\n",
    "err_test  = np.mean(Y_test  != rf.predict(X_test))\n",
    "print(err_train, err_test)"
   ]
  },
  {
   "cell_type": "code",
   "execution_count": 76,
   "id": "4be6a448-e9cb-497f-8197-f69a37481845",
   "metadata": {},
   "outputs": [
    {
     "name": "stdout",
     "output_type": "stream",
     "text": [
      "1.604724308363823e-05 0.08769466906259359\n"
     ]
    }
   ],
   "source": [
    "rf = ensemble.RandomForestClassifier(n_estimators = 100, n_jobs=-1)\n",
    "rf.fit(X_train, Y_train)\n",
    "err_train = np.mean(Y_train != rf.predict(X_train))\n",
    "err_test  = np.mean(Y_test  != rf.predict(X_test))\n",
    "print(err_train, err_test)"
   ]
  },
  {
   "cell_type": "markdown",
   "id": "dc79c2e3-348d-4518-9804-c098b1400293",
   "metadata": {},
   "source": [
    "- Random Forest shows better quality than KNN"
   ]
  }
 ],
 "metadata": {
  "kernelspec": {
   "display_name": "Python 3 (ipykernel)",
   "language": "python",
   "name": "python3"
  },
  "language_info": {
   "codemirror_mode": {
    "name": "ipython",
    "version": 3
   },
   "file_extension": ".py",
   "mimetype": "text/x-python",
   "name": "python",
   "nbconvert_exporter": "python",
   "pygments_lexer": "ipython3",
   "version": "3.11.5"
  }
 },
 "nbformat": 4,
 "nbformat_minor": 5
}
